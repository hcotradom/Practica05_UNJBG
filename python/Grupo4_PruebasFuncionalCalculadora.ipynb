{
  "nbformat": 4,
  "nbformat_minor": 0,
  "metadata": {
    "colab": {
      "name": "Grupo4-PruebasFuncionalCalculadora.ipynb",
      "provenance": []
    },
    "kernelspec": {
      "name": "python3",
      "display_name": "Python 3"
    },
    "language_info": {
      "name": "python"
    }
  },
  "cells": [
    {
      "cell_type": "markdown",
      "source": [
        "### **PRACTICA 05 - PRUEBAS FUNCIONALES**\n",
        "\n",
        "***Integrantes:***\n",
        "\n",
        "Erick Vilchez Agruta\n",
        "\n",
        "Luis Enrique Morales Quispe\n",
        "\n",
        "Hector Luis Cotrado Maquera"
      ],
      "metadata": {
        "id": "OTk9G_Un8Go-"
      }
    },
    {
      "cell_type": "code",
      "source": [
        "#@title Texto de título predeterminado\n",
        "!pip install selenium\n",
        "!apt-get update \n",
        "!apt install chromium-chromedriver\n",
        "\n",
        "from selenium import webdriver\n",
        "from selenium.webdriver.support.ui import WebDriverWait\n",
        "from selenium.webdriver.common.by import By\n",
        "from selenium.webdriver.support import expected_conditions as EC\n",
        "from selenium.webdriver.common.action_chains import ActionChains\n",
        "\n",
        "chrome_options = webdriver.ChromeOptions()\n",
        "chrome_options.add_argument('--headless')\n",
        "chrome_options.add_argument('--no-sandbox')\n",
        "chrome_options.add_argument('--disable-dev-shm-usage')\n",
        "wd = webdriver.Chrome('chromedriver',chrome_options=chrome_options)\n",
        "driver =webdriver.Chrome('chromedriver',chrome_options=chrome_options)\n",
        "wait = WebDriverWait(driver, 10)\n",
        "driver.get(\"https://www.calculator.net/percent-calculator.html\")\n",
        "\n",
        "campo1='//*[@id=\"cpar1\"]'\n",
        "campo2='//*[@id=\"cpar2\"]'\n",
        "calcular='//*[@id=\"content\"]/table[1]/tbody/tr[2]/td/input[2]'\n",
        "resultado='.//*[@id = \"content\"]/p[2]/font/b'\n",
        "\n",
        "\n",
        "driver.find_element(\"xpath\",campo1).send_keys(10)\n",
        "driver.find_element(\"xpath\",campo2).send_keys(50)\n",
        "\n",
        "\n",
        "wait.until(EC.element_to_be_clickable((\"xpath\", calcular))).click()\n",
        "\n",
        "\n",
        "result=driver.find_element(\"xpath\", resultado).text\n",
        "\n",
        "print(\"======================================================\")\n",
        "print(\"======================================================\")\n",
        "print(\"======================================================\")\n",
        "print(\"el resultado es: \", result)\n",
        "print(\"Completado Correctamente !\")\n",
        "print(\"======================================================\")\n",
        "print(\"======================================================\")\n",
        "print(\"======================================================\")\n"
      ],
      "metadata": {
        "colab": {
          "base_uri": "https://localhost:8080/"
        },
        "cellView": "code",
        "id": "MBCw1YpWmlze",
        "outputId": "93c4f826-c985-413c-b6b9-84616eaebf1d"
      },
      "execution_count": null,
      "outputs": [
        {
          "output_type": "stream",
          "name": "stdout",
          "text": [
            "Looking in indexes: https://pypi.org/simple, https://us-python.pkg.dev/colab-wheels/public/simple/\n",
            "Requirement already satisfied: selenium in /usr/local/lib/python3.7/dist-packages (4.3.0)\n",
            "Requirement already satisfied: urllib3[secure,socks]~=1.26 in /usr/local/lib/python3.7/dist-packages (from selenium) (1.26.11)\n",
            "Requirement already satisfied: trio~=0.17 in /usr/local/lib/python3.7/dist-packages (from selenium) (0.21.0)\n",
            "Requirement already satisfied: trio-websocket~=0.9 in /usr/local/lib/python3.7/dist-packages (from selenium) (0.9.2)\n",
            "Requirement already satisfied: idna in /usr/local/lib/python3.7/dist-packages (from trio~=0.17->selenium) (2.10)\n",
            "Requirement already satisfied: sniffio in /usr/local/lib/python3.7/dist-packages (from trio~=0.17->selenium) (1.2.0)\n",
            "Requirement already satisfied: async-generator>=1.9 in /usr/local/lib/python3.7/dist-packages (from trio~=0.17->selenium) (1.10)\n",
            "Requirement already satisfied: attrs>=19.2.0 in /usr/local/lib/python3.7/dist-packages (from trio~=0.17->selenium) (22.1.0)\n",
            "Requirement already satisfied: sortedcontainers in /usr/local/lib/python3.7/dist-packages (from trio~=0.17->selenium) (2.4.0)\n",
            "Requirement already satisfied: outcome in /usr/local/lib/python3.7/dist-packages (from trio~=0.17->selenium) (1.2.0)\n",
            "Requirement already satisfied: wsproto>=0.14 in /usr/local/lib/python3.7/dist-packages (from trio-websocket~=0.9->selenium) (1.1.0)\n",
            "Requirement already satisfied: PySocks!=1.5.7,<2.0,>=1.5.6 in /usr/local/lib/python3.7/dist-packages (from urllib3[secure,socks]~=1.26->selenium) (1.7.1)\n",
            "Requirement already satisfied: certifi in /usr/local/lib/python3.7/dist-packages (from urllib3[secure,socks]~=1.26->selenium) (2022.6.15)\n",
            "Requirement already satisfied: cryptography>=1.3.4 in /usr/local/lib/python3.7/dist-packages (from urllib3[secure,socks]~=1.26->selenium) (37.0.4)\n",
            "Requirement already satisfied: pyOpenSSL>=0.14 in /usr/local/lib/python3.7/dist-packages (from urllib3[secure,socks]~=1.26->selenium) (22.0.0)\n",
            "Requirement already satisfied: cffi>=1.12 in /usr/local/lib/python3.7/dist-packages (from cryptography>=1.3.4->urllib3[secure,socks]~=1.26->selenium) (1.15.1)\n",
            "Requirement already satisfied: pycparser in /usr/local/lib/python3.7/dist-packages (from cffi>=1.12->cryptography>=1.3.4->urllib3[secure,socks]~=1.26->selenium) (2.21)\n",
            "Requirement already satisfied: h11<1,>=0.9.0 in /usr/local/lib/python3.7/dist-packages (from wsproto>=0.14->trio-websocket~=0.9->selenium) (0.13.0)\n",
            "Requirement already satisfied: typing-extensions in /usr/local/lib/python3.7/dist-packages (from h11<1,>=0.9.0->wsproto>=0.14->trio-websocket~=0.9->selenium) (4.1.1)\n",
            "Hit:1 https://cloud.r-project.org/bin/linux/ubuntu bionic-cran40/ InRelease\n",
            "Ign:2 https://developer.download.nvidia.com/compute/machine-learning/repos/ubuntu1804/x86_64  InRelease\n",
            "Hit:3 https://developer.download.nvidia.com/compute/cuda/repos/ubuntu1804/x86_64  InRelease\n",
            "Hit:4 https://developer.download.nvidia.com/compute/machine-learning/repos/ubuntu1804/x86_64  Release\n",
            "Hit:5 http://archive.ubuntu.com/ubuntu bionic InRelease\n",
            "Hit:6 http://ppa.launchpad.net/c2d4u.team/c2d4u4.0+/ubuntu bionic InRelease\n",
            "Get:7 http://security.ubuntu.com/ubuntu bionic-security InRelease [88.7 kB]\n",
            "Get:8 http://archive.ubuntu.com/ubuntu bionic-updates InRelease [88.7 kB]\n",
            "Hit:9 http://ppa.launchpad.net/cran/libgit2/ubuntu bionic InRelease\n",
            "Hit:11 http://ppa.launchpad.net/deadsnakes/ppa/ubuntu bionic InRelease\n",
            "Get:12 http://archive.ubuntu.com/ubuntu bionic-backports InRelease [74.6 kB]\n",
            "Hit:13 http://ppa.launchpad.net/graphics-drivers/ppa/ubuntu bionic InRelease\n",
            "Fetched 252 kB in 2s (102 kB/s)\n",
            "Reading package lists... Done\n",
            "Reading package lists... Done\n",
            "Building dependency tree       \n",
            "Reading state information... Done\n",
            "chromium-chromedriver is already the newest version (103.0.5060.134-0ubuntu0.18.04.1).\n",
            "The following package was automatically installed and is no longer required:\n",
            "  libnvidia-common-460\n",
            "Use 'apt autoremove' to remove it.\n",
            "0 upgraded, 0 newly installed, 0 to remove and 26 not upgraded.\n"
          ]
        },
        {
          "output_type": "stream",
          "name": "stderr",
          "text": [
            "/usr/local/lib/python3.7/dist-packages/ipykernel_launcher.py:15: DeprecationWarning: use options instead of chrome_options\n",
            "  from ipykernel import kernelapp as app\n",
            "/usr/local/lib/python3.7/dist-packages/ipykernel_launcher.py:16: DeprecationWarning: use options instead of chrome_options\n",
            "  app.launch_new_instance()\n"
          ]
        },
        {
          "output_type": "stream",
          "name": "stdout",
          "text": [
            "======================================================\n",
            "======================================================\n",
            "======================================================\n",
            "el resultado es:  5\n",
            "Completado Correctamente !\n",
            "======================================================\n",
            "======================================================\n",
            "======================================================\n"
          ]
        }
      ]
    },
    {
      "cell_type": "markdown",
      "source": [
        "### ***Práctica 6: Pruebas Funcionales y XUnit***"
      ],
      "metadata": {
        "id": "jqUSd6ZiDjt5"
      }
    },
    {
      "cell_type": "markdown",
      "source": [
        "***Integrantes:***\n",
        "\n",
        "Erick Vilchez Agruta\n",
        "\n",
        "Luis Enrique Morales Quispe\n",
        "\n",
        "Hector Luis Cotrado Maquera"
      ],
      "metadata": {
        "id": "OtYPxaaiDovw"
      }
    },
    {
      "cell_type": "code",
      "source": [
        "from selenium import webdriver\n",
        "from selenium.webdriver.common.keys import Keys\n",
        "\n",
        "chrome_options = webdriver.ChromeOptions()\n",
        "chrome_options.add_argument('--headless')\n",
        "chrome_options.add_argument('--no-sandbox')\n",
        "chrome_options.add_argument('--disable-dev-shm-usage')\n",
        "wd = webdriver.Chrome('chromedriver',chrome_options=chrome_options)\n",
        "driver =webdriver.Chrome('chromedriver',chrome_options=chrome_options)\n",
        "wait = WebDriverWait(driver, 10)\n",
        "driver.get(\"https://www.python.org\")\n",
        "print(driver.title)\n",
        "search_bar = driver.find_element(\"name\", \"q\")\n",
        "search_bar.clear()\n",
        "search_bar.send_keys(\"getting started with python\")\n",
        "search_bar.send_keys(Keys.RETURN)\n",
        "print(driver.current_url)\n",
        "driver.close()"
      ],
      "metadata": {
        "colab": {
          "base_uri": "https://localhost:8080/"
        },
        "id": "JUbt3AwNLLGc",
        "outputId": "31a1f94c-47c5-4b89-93f4-deeb32c67838"
      },
      "execution_count": null,
      "outputs": [
        {
          "output_type": "stream",
          "name": "stderr",
          "text": [
            "/usr/local/lib/python3.7/dist-packages/ipykernel_launcher.py:8: DeprecationWarning: use options instead of chrome_options\n",
            "  \n",
            "/usr/local/lib/python3.7/dist-packages/ipykernel_launcher.py:9: DeprecationWarning: use options instead of chrome_options\n",
            "  if __name__ == '__main__':\n"
          ]
        },
        {
          "output_type": "stream",
          "name": "stdout",
          "text": [
            "Welcome to Python.org\n",
            "https://www.python.org/search/?q=getting+started+with+python&submit=\n"
          ]
        }
      ]
    },
    {
      "cell_type": "code",
      "source": [
        "import unittest\n",
        "from selenium import webdriver\n",
        "from selenium.webdriver.common.keys import Keys\n",
        "\n",
        "class ChromeSearch(unittest.TestCase):\n",
        "  def setUp(self):\n",
        "    self.chrome_options = webdriver.ChromeOptions()\n",
        "    self.chrome_options.add_argument('--headless')\n",
        "    self.chrome_options.add_argument('--no-sandbox')\n",
        "    self.chrome_options.add_argument('--disable-dev-shm-usage')\n",
        "    self.wd = webdriver.Chrome('chromedriver',chrome_options=chrome_options)\n",
        "    self.driver =webdriver.Chrome('chromedriver',chrome_options=chrome_options)\n",
        "    self.wait = WebDriverWait(driver, 10)\n",
        "\n",
        "  def test_search_in_python_org(self):\n",
        "    driver = self.driver\n",
        "    driver.get(\"https://www.python.org\")\n",
        "    self.assertIn(\"Python\", driver.title)\n",
        "    elem = driver.find_element(\"name\", \"q\")\n",
        "    elem.send_keys(\"getting started with python\")\n",
        "    elem.send_keys(Keys.RETURN)\n",
        "    assert \"https://www.python.org/search/?q=getting+started+with+python&submit=\" == driver.current_url\n",
        "\n",
        "def tearDown(self):\n",
        "  self.driver.close()\n",
        "\n",
        "if __name__ == '__main__':\n",
        "    unittest.main(argv=['first-arg-is-ignored'], exit=False)"
      ],
      "metadata": {
        "colab": {
          "base_uri": "https://localhost:8080/"
        },
        "id": "QqEH0MACTJpN",
        "outputId": "28bfaf12-3bbb-40ae-86e6-6ba69c8db056"
      },
      "execution_count": null,
      "outputs": [
        {
          "output_type": "stream",
          "name": "stderr",
          "text": [
            "/usr/local/lib/python3.7/dist-packages/ipykernel_launcher.py:11: DeprecationWarning: use options instead of chrome_options\n",
            "  # This is added back by InteractiveShellApp.init_path()\n",
            "/usr/local/lib/python3.7/dist-packages/ipykernel_launcher.py:12: DeprecationWarning: use options instead of chrome_options\n",
            "  if sys.path[0] == '':\n",
            ".EE./usr/local/lib/python3.7/dist-packages/ipykernel_launcher.py:17: DeprecationWarning: use options instead of chrome_options\n",
            "/usr/local/lib/python3.7/dist-packages/ipykernel_launcher.py:18: DeprecationWarning: use options instead of chrome_options\n",
            "E...\n",
            "======================================================================\n",
            "ERROR: test_page_title (__main__.GoogleTestCase)\n",
            "Assert that title of page says 'Google'.\n",
            "----------------------------------------------------------------------\n",
            "Traceback (most recent call last):\n",
            "  File \"<ipython-input-9-4dba473f987d>\", line 11, in setUp\n",
            "    self.browser = webdriver.Chrome()\n",
            "  File \"/usr/local/lib/python3.7/dist-packages/selenium/webdriver/chrome/webdriver.py\", line 72, in __init__\n",
            "    service_log_path, service, keep_alive)\n",
            "  File \"/usr/local/lib/python3.7/dist-packages/selenium/webdriver/chromium/webdriver.py\", line 97, in __init__\n",
            "    options=options)\n",
            "  File \"/usr/local/lib/python3.7/dist-packages/selenium/webdriver/remote/webdriver.py\", line 277, in __init__\n",
            "    self.start_session(capabilities, browser_profile)\n",
            "  File \"/usr/local/lib/python3.7/dist-packages/selenium/webdriver/remote/webdriver.py\", line 370, in start_session\n",
            "    response = self.execute(Command.NEW_SESSION, parameters)\n",
            "  File \"/usr/local/lib/python3.7/dist-packages/selenium/webdriver/remote/webdriver.py\", line 435, in execute\n",
            "    self.error_handler.check_response(response)\n",
            "  File \"/usr/local/lib/python3.7/dist-packages/selenium/webdriver/remote/errorhandler.py\", line 247, in check_response\n",
            "    raise exception_class(message, screen, stacktrace)\n",
            "selenium.common.exceptions.WebDriverException: Message: unknown error: Chrome failed to start: exited abnormally.\n",
            "  (unknown error: DevToolsActivePort file doesn't exist)\n",
            "  (The process started from chrome location /usr/bin/chromium-browser is no longer running, so ChromeDriver is assuming that Chrome has crashed.)\n",
            "Stacktrace:\n",
            "#0 0x55a5c3e526e3 <unknown>\n",
            "#1 0x55a5c3c28213 <unknown>\n",
            "#2 0x55a5c3c4db73 <unknown>\n",
            "#3 0x55a5c3c48d40 <unknown>\n",
            "#4 0x55a5c3c83a55 <unknown>\n",
            "#5 0x55a5c3c7d243 <unknown>\n",
            "#6 0x55a5c3c5397c <unknown>\n",
            "#7 0x55a5c3c54e45 <unknown>\n",
            "#8 0x55a5c3ec4690 <unknown>\n",
            "#9 0x55a5c3e88159 <unknown>\n",
            "#10 0x55a5c3e87e8c <unknown>\n",
            "#11 0x55a5c3e88722 <unknown>\n",
            "#12 0x55a5c3ec0e0b <unknown>\n",
            "#13 0x55a5c3e88981 <unknown>\n",
            "#14 0x55a5c3e6b723 <unknown>\n",
            "#15 0x55a5c3e92028 <unknown>\n",
            "#16 0x55a5c3e921ba <unknown>\n",
            "#17 0x55a5c3eab591 <unknown>\n",
            "#18 0x7efc589d76db <unknown>\n",
            "\n",
            "\n",
            "======================================================================\n",
            "ERROR: test_search_page_title (__main__.GoogleTestCase)\n",
            "Assert that Google search returns data for 'Red Hat'.\n",
            "----------------------------------------------------------------------\n",
            "Traceback (most recent call last):\n",
            "  File \"<ipython-input-9-4dba473f987d>\", line 11, in setUp\n",
            "    self.browser = webdriver.Chrome()\n",
            "  File \"/usr/local/lib/python3.7/dist-packages/selenium/webdriver/chrome/webdriver.py\", line 72, in __init__\n",
            "    service_log_path, service, keep_alive)\n",
            "  File \"/usr/local/lib/python3.7/dist-packages/selenium/webdriver/chromium/webdriver.py\", line 97, in __init__\n",
            "    options=options)\n",
            "  File \"/usr/local/lib/python3.7/dist-packages/selenium/webdriver/remote/webdriver.py\", line 277, in __init__\n",
            "    self.start_session(capabilities, browser_profile)\n",
            "  File \"/usr/local/lib/python3.7/dist-packages/selenium/webdriver/remote/webdriver.py\", line 370, in start_session\n",
            "    response = self.execute(Command.NEW_SESSION, parameters)\n",
            "  File \"/usr/local/lib/python3.7/dist-packages/selenium/webdriver/remote/webdriver.py\", line 435, in execute\n",
            "    self.error_handler.check_response(response)\n",
            "  File \"/usr/local/lib/python3.7/dist-packages/selenium/webdriver/remote/errorhandler.py\", line 247, in check_response\n",
            "    raise exception_class(message, screen, stacktrace)\n",
            "selenium.common.exceptions.WebDriverException: Message: unknown error: Chrome failed to start: exited abnormally.\n",
            "  (unknown error: DevToolsActivePort file doesn't exist)\n",
            "  (The process started from chrome location /usr/bin/chromium-browser is no longer running, so ChromeDriver is assuming that Chrome has crashed.)\n",
            "Stacktrace:\n",
            "#0 0x560e238736e3 <unknown>\n",
            "#1 0x560e23649213 <unknown>\n",
            "#2 0x560e2366eb73 <unknown>\n",
            "#3 0x560e23669d40 <unknown>\n",
            "#4 0x560e236a4a55 <unknown>\n",
            "#5 0x560e2369e243 <unknown>\n",
            "#6 0x560e2367497c <unknown>\n",
            "#7 0x560e23675e45 <unknown>\n",
            "#8 0x560e238e5690 <unknown>\n",
            "#9 0x560e238a9159 <unknown>\n",
            "#10 0x560e238a8e8c <unknown>\n",
            "#11 0x560e238a9722 <unknown>\n",
            "#12 0x560e238e1e0b <unknown>\n",
            "#13 0x560e238a9981 <unknown>\n",
            "#14 0x560e2388c723 <unknown>\n",
            "#15 0x560e238b3028 <unknown>\n",
            "#16 0x560e238b31ba <unknown>\n",
            "#17 0x560e238cc591 <unknown>\n",
            "#18 0x7f559f4a76db <unknown>\n",
            "\n",
            "\n",
            "======================================================================\n",
            "ERROR: test_search_by_text (__main__.SearchText)\n",
            "----------------------------------------------------------------------\n",
            "Traceback (most recent call last):\n",
            "  File \"<ipython-input-32-8d90d4c8d191>\", line 25, in test_search_by_text\n",
            "    self.search_field = self.driver.driver.find_element(\"name\", \"q\")\n",
            "AttributeError: 'WebDriver' object has no attribute 'driver'\n",
            "\n",
            "----------------------------------------------------------------------\n",
            "Ran 8 tests in 7.710s\n",
            "\n",
            "FAILED (errors=3)\n"
          ]
        }
      ]
    }
  ]
}